{
 "cells": [
  {
   "cell_type": "markdown",
   "metadata": {},
   "source": [
    "# From Hugging Face Dataset to PyTorch DataLoaders and MX Arrays"
   ]
  },
  {
   "cell_type": "markdown",
   "metadata": {},
   "source": [
    "This guide walks you through loading a dataset with Hugging Face, batching and collating the data using PyTorch’s DataLoader, and converting the tensors to MX arrays for neural network input, here are the steps:\n",
    "\n",
    "0. Why Not `mlx.data` ?\n",
    "1. Load Dataset from Hugging Face\n",
    "2. Define Your Transforms\n",
    "3. Leverage PyTorch DataLoaders with a Custom Collate Function\n",
    "4. Verify the Setup\n",
    "5. Full Snippet "
   ]
  },
  {
   "cell_type": "markdown",
   "metadata": {},
   "source": [
    "### Install Deps"
   ]
  },
  {
   "cell_type": "markdown",
   "metadata": {},
   "source": [
    "[Install PyTorch if needed](https://pytorch.org/get-started/locally/)"
   ]
  },
  {
   "cell_type": "markdown",
   "metadata": {},
   "source": [
    "Install Hugging Face Datasets Library"
   ]
  },
  {
   "cell_type": "code",
   "execution_count": null,
   "metadata": {},
   "outputs": [],
   "source": [
    "%pip install datasets"
   ]
  },
  {
   "cell_type": "code",
   "execution_count": 15,
   "metadata": {},
   "outputs": [],
   "source": [
    "import matplotlib.pyplot as plt\n",
    "import numpy as np\n",
    "import mlx\n",
    "import mlx.core as mx"
   ]
  },
  {
   "cell_type": "markdown",
   "metadata": {},
   "source": [
    "### 0. Why Not Use `mlx.data`?\n",
    "\n",
    "While using PyTorch utilities does introduce a bit of dependency overload, we don't have to reinvent the wheel and we can stick to the usual industry workflow."
   ]
  },
  {
   "cell_type": "markdown",
   "metadata": {},
   "source": [
    "### 1. Load Dataset from Hugging Face"
   ]
  },
  {
   "cell_type": "markdown",
   "metadata": {},
   "source": [
    "Let's use HuggingFace's `datasets` library to load the files"
   ]
  },
  {
   "cell_type": "code",
   "execution_count": 16,
   "metadata": {},
   "outputs": [
    {
     "data": {
      "text/plain": [
       "DatasetDict({\n",
       "    train: Dataset({\n",
       "        features: ['image', 'label'],\n",
       "        num_rows: 60000\n",
       "    })\n",
       "    test: Dataset({\n",
       "        features: ['image', 'label'],\n",
       "        num_rows: 10000\n",
       "    })\n",
       "})"
      ]
     },
     "execution_count": 16,
     "metadata": {},
     "output_type": "execute_result"
    }
   ],
   "source": [
    "from datasets import load_dataset\n",
    "\n",
    "ds_name = \"ylecun/mnist\"\n",
    "ds = load_dataset(ds_name)\n",
    "ds"
   ]
  },
  {
   "cell_type": "markdown",
   "metadata": {},
   "source": [
    "We’ll use only the training set for now, splitting it into two parts:\n",
    "- Training Set: 80% for training our model.\n",
    "- Validation Set: 20% for checking the model’s accuracy at each epoch.\n",
    "\n",
    "We’ll keep the test set aside for the final evaluation to see how our model performs on completely unseen data."
   ]
  },
  {
   "cell_type": "code",
   "execution_count": 17,
   "metadata": {},
   "outputs": [
    {
     "data": {
      "text/plain": [
       "DatasetDict({\n",
       "    train: Dataset({\n",
       "        features: ['image', 'label'],\n",
       "        num_rows: 48000\n",
       "    })\n",
       "    val: Dataset({\n",
       "        features: ['image', 'label'],\n",
       "        num_rows: 12000\n",
       "    })\n",
       "})"
      ]
     },
     "execution_count": 17,
     "metadata": {},
     "output_type": "execute_result"
    }
   ],
   "source": [
    "ds = ds['train'].train_test_split(test_size=0.2)\n",
    "\n",
    "# just some renaming to stay consistent with what I just said\n",
    "ds['val'] = ds['test']\n",
    "del ds['test']\n",
    "ds"
   ]
  },
  {
   "cell_type": "markdown",
   "metadata": {},
   "source": [
    "Let's take a look at the first sample"
   ]
  },
  {
   "cell_type": "code",
   "execution_count": 18,
   "metadata": {},
   "outputs": [
    {
     "data": {
      "image/jpeg": "[encoded data removed]",
      "image/png": "[encoded data removed]",
      "text/plain": [
       "<PIL.PngImagePlugin.PngImageFile image mode=L size=28x28>"
      ]
     },
     "execution_count": 18,
     "metadata": {},
     "output_type": "execute_result"
    }
   ],
   "source": [
    "# Display a sample image and label from the training set\n",
    "sample = ds['train'][0]\n",
    "sample['image']"
   ]
  },
  {
   "cell_type": "code",
   "execution_count": 19,
   "metadata": {},
   "outputs": [
    {
     "name": "stdout",
     "output_type": "stream",
     "text": [
      "the above image is supposed to be a 8\n"
     ]
    }
   ],
   "source": [
    "print('the above image is supposed to be a', sample['label'])"
   ]
  },
  {
   "cell_type": "markdown",
   "metadata": {},
   "source": [
    "### 2. Define Your Transforms"
   ]
  },
  {
   "cell_type": "markdown",
   "metadata": {},
   "source": [
    "At this point we got a PILImage which is not useful for our model, so we need to define a `transform` to go from PIL To Tensors"
   ]
  },
  {
   "cell_type": "code",
   "execution_count": 20,
   "metadata": {},
   "outputs": [
    {
     "data": {
      "text/plain": [
       "(torch.Tensor, torch.Size([784]))"
      ]
     },
     "execution_count": 20,
     "metadata": {},
     "output_type": "execute_result"
    }
   ],
   "source": [
    "from torchvision import transforms\n",
    "\n",
    "# Define transformation\n",
    "transform = transforms.Compose([\n",
    "    transforms.Grayscale(num_output_channels=1),\n",
    "    transforms.ToTensor(),\n",
    "    transforms.Normalize((0.5,), (0.5,)),\n",
    "    lambda x: x.view(-1)  # Flatten to 1D array of 784 pixels\n",
    "])\n",
    "\n",
    "# Apply transformation to the dataset\n",
    "def transform_dataset(batch):\n",
    "    batch['image'] = [transform(image) for image in batch['image']]\n",
    "    return batch\n",
    "\n",
    "# Apply the transformation to the dataset\n",
    "transformed = ds.with_transform(transform_dataset)\n",
    "\n",
    "# Example of accessing transformed data\n",
    "type(transformed['train'][0]['image']), transformed['train'][0]['image'].shape"
   ]
  },
  {
   "cell_type": "markdown",
   "metadata": {},
   "source": [
    "> Note that this part `lambda x: x.view(-1)` may vary depending on the requirements of your neural network. A flat tensor is suitable for a multi-layer perceptron, but for a convolutional network, you might need a 3-dimensional tensor."
   ]
  },
  {
   "cell_type": "markdown",
   "metadata": {},
   "source": [
    "Let's verify that we can still display the image"
   ]
  },
  {
   "cell_type": "code",
   "execution_count": 21,
   "metadata": {},
   "outputs": [
    {
     "data": {
      "image/png": "[encoded data removed]",
      "text/plain": [
       "<Figure size 640x480 with 1 Axes>"
      ]
     },
     "metadata": {},
     "output_type": "display_data"
    }
   ],
   "source": [
    "# helper to display an image\n",
    "import matplotlib.pyplot as plt\n",
    "\n",
    "def np_show_img(array, title=''):\n",
    "    if array.ndim == 1:  # If rank 1, reshape to 2D\n",
    "        array = array.reshape(28, 28)\n",
    "    plt.imshow(array, cmap='gray')\n",
    "    plt.axis('off')\n",
    "    plt.show()\n",
    "\n",
    "np_show_img(transformed['train'][0]['image'])"
   ]
  },
  {
   "cell_type": "markdown",
   "metadata": {},
   "source": [
    "### 3. Leverage PyTorch DataLoaders with a Custom Collate Function"
   ]
  },
  {
   "cell_type": "markdown",
   "metadata": {},
   "source": [
    "So, we successfully applied the transform, but in practice we don't apply transforms on the dataset all at once. We do that in batches, load the stuff in parallel, cache the results, etc.\n",
    "\n",
    "Let's not bother rewriting all this stuff!\n",
    "\n",
    "Instead we can leverage `DataLoader` and `Dataset` classes from the PyTorch utility library and apply a custom collate function to collect our mlx arrays."
   ]
  },
  {
   "cell_type": "code",
   "execution_count": 22,
   "metadata": {},
   "outputs": [],
   "source": [
    "batch_size=32"
   ]
  },
  {
   "cell_type": "code",
   "execution_count": 23,
   "metadata": {},
   "outputs": [],
   "source": [
    "from torch.utils.data import DataLoader, Dataset\n",
    "import mlx.core as mx\n",
    "\n",
    "# Custom Dataset class to match what the data structure we got from hugging face\n",
    "class MNISTDataset(Dataset):\n",
    "    def __init__(self, dataset, transform=None):\n",
    "        self.dataset = dataset\n",
    "        self.transform = transform\n",
    "\n",
    "    def __len__(self):\n",
    "        return len(self.dataset)\n",
    "\n",
    "    def __getitem__(self, idx):\n",
    "        image = self.dataset[idx]['image']\n",
    "        label = self.dataset[idx]['label']\n",
    "        if self.transform:\n",
    "            image = self.transform(image)\n",
    "        return image, label\n",
    "\n",
    "# 👇 The important part\n",
    "def mlx_collate_fn(batch):\n",
    "    images, labels = zip(*batch)\n",
    "    images = mx.array([mx.array(image.numpy()) for image in images])\n",
    "    labels = mx.array(labels)\n",
    "    return images, labels\n",
    "\n",
    "# Create DataLoaders with the custom collate function\n",
    "def create_dataloader(dataset, transform=None, batch_size=32, shuffle=False):\n",
    "    return DataLoader(MNISTDataset(dataset, transform=transform), # 👈 here we pass the transform we defined earlier\n",
    "                      batch_size=batch_size,\n",
    "                      shuffle=shuffle,\n",
    "                      collate_fn=mlx_collate_fn)\n",
    "\n",
    "\n",
    "train_loader = create_dataloader(ds['train'], transform=transform, batch_size=batch_size, shuffle=True)\n",
    "val_loader = create_dataloader(ds['val'], batch_size=batch_size, shuffle=False)"
   ]
  },
  {
   "cell_type": "markdown",
   "metadata": {},
   "source": [
    "### 4. Verify the Setup"
   ]
  },
  {
   "cell_type": "code",
   "execution_count": 24,
   "metadata": {},
   "outputs": [
    {
     "name": "stdout",
     "output_type": "stream",
     "text": [
      "inputs: <class 'mlx.core.array'> (32, 784)\n",
      "labels: <class 'mlx.core.array'> (32,)\n",
      "The image should display a  0\n"
     ]
    },
    {
     "data": {
      "image/png": "[encoded data removed]",
      "text/plain": [
       "<Figure size 640x480 with 1 Axes>"
      ]
     },
     "metadata": {},
     "output_type": "display_data"
    }
   ],
   "source": [
    "for inputs, labels in train_loader:\n",
    "    print('inputs:', type(inputs), inputs.shape)\n",
    "    print('labels:', type(labels), labels.shape)\n",
    "   \n",
    "    print('The image should display a ', labels[0].item())\n",
    "    np_show_img(inputs[0])\n",
    "    break"
   ]
  },
  {
   "cell_type": "markdown",
   "metadata": {},
   "source": [
    "### 5. Full Snippet"
   ]
  },
  {
   "cell_type": "code",
   "execution_count": 25,
   "metadata": {},
   "outputs": [],
   "source": [
    "batch_size=32"
   ]
  },
  {
   "cell_type": "code",
   "execution_count": 26,
   "metadata": {},
   "outputs": [
    {
     "name": "stdout",
     "output_type": "stream",
     "text": [
      "inputs: <class 'mlx.core.array'> (32, 784)\n",
      "labels: <class 'mlx.core.array'> (32,)\n",
      "The image should display a  1\n"
     ]
    },
    {
     "data": {
      "image/png": "[encoded data removed]",
      "text/plain": [
       "<Figure size 640x480 with 1 Axes>"
      ]
     },
     "metadata": {},
     "output_type": "display_data"
    }
   ],
   "source": [
    "import matplotlib.pyplot as plt\n",
    "from datasets import load_dataset\n",
    "from torch.utils.data import DataLoader, Dataset\n",
    "from torchvision import transforms\n",
    "import mlx\n",
    "import mlx.core as mx\n",
    "\n",
    "# just a helper to show img\n",
    "def np_show_img(array, title=''):\n",
    "    if array.ndim == 1:  # If rank 1, reshape to 2D\n",
    "        array = array.reshape(28, 28)\n",
    "    plt.imshow(array, cmap='gray')\n",
    "    plt.axis('off')\n",
    "    plt.show()\n",
    "\n",
    "\n",
    "# Define transformation\n",
    "transform = transforms.Compose([\n",
    "    transforms.Grayscale(num_output_channels=1),\n",
    "    transforms.ToTensor(),\n",
    "    transforms.Normalize((0.5,), (0.5,)),\n",
    "    lambda x: x.view(-1)  # Flatten to 1D array of 784 pixels\n",
    "])\n",
    "\n",
    "# Apply transformation to the dataset\n",
    "def transform_dataset(batch):\n",
    "    batch['image'] = [transform(image) for image in batch['image']]\n",
    "    return batch\n",
    "\n",
    "class MNISTDataset(Dataset):\n",
    "    def __init__(self, dataset, transform=None):\n",
    "        self.dataset = dataset\n",
    "        self.transform = transform\n",
    "\n",
    "    def __len__(self):\n",
    "        return len(self.dataset)\n",
    "\n",
    "    def __getitem__(self, idx):\n",
    "        image = self.dataset[idx]['image']\n",
    "        label = self.dataset[idx]['label']\n",
    "        if self.transform:\n",
    "            image = self.transform(image)\n",
    "        return image, label\n",
    "\n",
    "# 👇 The important part\n",
    "def mlx_collate_fn(batch):\n",
    "    images, labels = zip(*batch)\n",
    "    images = mx.array([mx.array(image.numpy()) for image in images])\n",
    "    labels = mx.array(labels)\n",
    "    return images, labels\n",
    "\n",
    "# Create DataLoaders with the custom collate function\n",
    "def create_dataloader(dataset, transform=None, batch_size=32, shuffle=False):\n",
    "    return DataLoader(MNISTDataset(dataset, transform=transform), # 👈 here we pass the transform we defined earlier\n",
    "                      batch_size=batch_size,\n",
    "                      shuffle=shuffle,\n",
    "                      collate_fn=mlx_collate_fn)\n",
    "\n",
    "\n",
    "\n",
    "ds_name = \"ylecun/mnist\"\n",
    "ds = load_dataset(ds_name)\n",
    "ds = ds['train'].train_test_split(test_size=0.2)\n",
    "ds['val'] = ds['test']\n",
    "del ds['test']\n",
    "\n",
    "train_loader = create_dataloader(ds['train'], transform=transform, batch_size=batch_size, shuffle=True)\n",
    "val_loader = create_dataloader(ds['val'], transform=transform, batch_size=batch_size, shuffle=False)\n",
    "\n",
    "for inputs, labels in train_loader:\n",
    "    print('inputs:', type(inputs), inputs.shape)\n",
    "    print('labels:', type(labels), labels.shape)\n",
    "   \n",
    "    print('The image should display a ', labels[0].item())\n",
    "    np_show_img(inputs[0])\n",
    "    break"
   ]
  },
  {
   "cell_type": "markdown",
   "metadata": {},
   "source": [
    "Done! You are now ready to fed these mxarrays to your mx neural net"
   ]
  }
 ],
 "metadata": {
  "kernelspec": {
   "display_name": "base",
   "language": "python",
   "name": "python3"
  },
  "language_info": {
   "codemirror_mode": {
    "name": "ipython",
    "version": 3
   },
   "file_extension": ".py",
   "mimetype": "text/x-python",
   "name": "python",
   "nbconvert_exporter": "python",
   "pygments_lexer": "ipython3",
   "version": "3.12.2"
  }
 },
 "nbformat": 4,
 "nbformat_minor": 2
}
